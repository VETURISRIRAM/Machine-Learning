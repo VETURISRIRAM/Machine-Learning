{
 "cells": [
  {
   "cell_type": "markdown",
   "metadata": {},
   "source": [
    "### Artificial Neyral Network using Keras \n",
    "#### Problem Statement :\n",
    "#### In this section, we have a dataset of sample of customers of a bank with different features related to the customer. The bank has observed that significant amount of the customers have left the bank. With the customer information, our goal is to predict how many more customers are going to leave the bank in the span of next 6 months. This helps the bank to understant where it should concentrate more in order to avoid customer churning."
   ]
  },
  {
   "cell_type": "code",
   "execution_count": 1,
   "metadata": {},
   "outputs": [],
   "source": [
    "import numpy as np\n",
    "import pandas as pd\n",
    "import matplotlib.pyplot as plt"
   ]
  },
  {
   "cell_type": "code",
   "execution_count": 2,
   "metadata": {},
   "outputs": [],
   "source": [
    "# Read the dataset\n",
    "df = pd.read_csv('Churn_Modelling.csv')"
   ]
  },
  {
   "cell_type": "code",
   "execution_count": 3,
   "metadata": {},
   "outputs": [
    {
     "data": {
      "text/html": [
       "<div>\n",
       "<style scoped>\n",
       "    .dataframe tbody tr th:only-of-type {\n",
       "        vertical-align: middle;\n",
       "    }\n",
       "\n",
       "    .dataframe tbody tr th {\n",
       "        vertical-align: top;\n",
       "    }\n",
       "\n",
       "    .dataframe thead th {\n",
       "        text-align: right;\n",
       "    }\n",
       "</style>\n",
       "<table border=\"1\" class=\"dataframe\">\n",
       "  <thead>\n",
       "    <tr style=\"text-align: right;\">\n",
       "      <th></th>\n",
       "      <th>RowNumber</th>\n",
       "      <th>CustomerId</th>\n",
       "      <th>Surname</th>\n",
       "      <th>CreditScore</th>\n",
       "      <th>Geography</th>\n",
       "      <th>Gender</th>\n",
       "      <th>Age</th>\n",
       "      <th>Tenure</th>\n",
       "      <th>Balance</th>\n",
       "      <th>NumOfProducts</th>\n",
       "      <th>HasCrCard</th>\n",
       "      <th>IsActiveMember</th>\n",
       "      <th>EstimatedSalary</th>\n",
       "      <th>Exited</th>\n",
       "    </tr>\n",
       "  </thead>\n",
       "  <tbody>\n",
       "    <tr>\n",
       "      <th>0</th>\n",
       "      <td>1</td>\n",
       "      <td>15634602</td>\n",
       "      <td>Hargrave</td>\n",
       "      <td>619</td>\n",
       "      <td>France</td>\n",
       "      <td>Female</td>\n",
       "      <td>42</td>\n",
       "      <td>2</td>\n",
       "      <td>0.00</td>\n",
       "      <td>1</td>\n",
       "      <td>1</td>\n",
       "      <td>1</td>\n",
       "      <td>101348.88</td>\n",
       "      <td>1</td>\n",
       "    </tr>\n",
       "    <tr>\n",
       "      <th>1</th>\n",
       "      <td>2</td>\n",
       "      <td>15647311</td>\n",
       "      <td>Hill</td>\n",
       "      <td>608</td>\n",
       "      <td>Spain</td>\n",
       "      <td>Female</td>\n",
       "      <td>41</td>\n",
       "      <td>1</td>\n",
       "      <td>83807.86</td>\n",
       "      <td>1</td>\n",
       "      <td>0</td>\n",
       "      <td>1</td>\n",
       "      <td>112542.58</td>\n",
       "      <td>0</td>\n",
       "    </tr>\n",
       "    <tr>\n",
       "      <th>2</th>\n",
       "      <td>3</td>\n",
       "      <td>15619304</td>\n",
       "      <td>Onio</td>\n",
       "      <td>502</td>\n",
       "      <td>France</td>\n",
       "      <td>Female</td>\n",
       "      <td>42</td>\n",
       "      <td>8</td>\n",
       "      <td>159660.80</td>\n",
       "      <td>3</td>\n",
       "      <td>1</td>\n",
       "      <td>0</td>\n",
       "      <td>113931.57</td>\n",
       "      <td>1</td>\n",
       "    </tr>\n",
       "    <tr>\n",
       "      <th>3</th>\n",
       "      <td>4</td>\n",
       "      <td>15701354</td>\n",
       "      <td>Boni</td>\n",
       "      <td>699</td>\n",
       "      <td>France</td>\n",
       "      <td>Female</td>\n",
       "      <td>39</td>\n",
       "      <td>1</td>\n",
       "      <td>0.00</td>\n",
       "      <td>2</td>\n",
       "      <td>0</td>\n",
       "      <td>0</td>\n",
       "      <td>93826.63</td>\n",
       "      <td>0</td>\n",
       "    </tr>\n",
       "    <tr>\n",
       "      <th>4</th>\n",
       "      <td>5</td>\n",
       "      <td>15737888</td>\n",
       "      <td>Mitchell</td>\n",
       "      <td>850</td>\n",
       "      <td>Spain</td>\n",
       "      <td>Female</td>\n",
       "      <td>43</td>\n",
       "      <td>2</td>\n",
       "      <td>125510.82</td>\n",
       "      <td>1</td>\n",
       "      <td>1</td>\n",
       "      <td>1</td>\n",
       "      <td>79084.10</td>\n",
       "      <td>0</td>\n",
       "    </tr>\n",
       "  </tbody>\n",
       "</table>\n",
       "</div>"
      ],
      "text/plain": [
       "   RowNumber  CustomerId   Surname  CreditScore Geography  Gender  Age  \\\n",
       "0          1    15634602  Hargrave          619    France  Female   42   \n",
       "1          2    15647311      Hill          608     Spain  Female   41   \n",
       "2          3    15619304      Onio          502    France  Female   42   \n",
       "3          4    15701354      Boni          699    France  Female   39   \n",
       "4          5    15737888  Mitchell          850     Spain  Female   43   \n",
       "\n",
       "   Tenure    Balance  NumOfProducts  HasCrCard  IsActiveMember  \\\n",
       "0       2       0.00              1          1               1   \n",
       "1       1   83807.86              1          0               1   \n",
       "2       8  159660.80              3          1               0   \n",
       "3       1       0.00              2          0               0   \n",
       "4       2  125510.82              1          1               1   \n",
       "\n",
       "   EstimatedSalary  Exited  \n",
       "0        101348.88       1  \n",
       "1        112542.58       0  \n",
       "2        113931.57       1  \n",
       "3         93826.63       0  \n",
       "4         79084.10       0  "
      ]
     },
     "execution_count": 3,
     "metadata": {},
     "output_type": "execute_result"
    }
   ],
   "source": [
    "df.head()"
   ]
  },
  {
   "cell_type": "code",
   "execution_count": 4,
   "metadata": {},
   "outputs": [
    {
     "name": "stdout",
     "output_type": "stream",
     "text": [
      "<class 'pandas.core.frame.DataFrame'>\n",
      "RangeIndex: 10000 entries, 0 to 9999\n",
      "Data columns (total 14 columns):\n",
      "RowNumber          10000 non-null int64\n",
      "CustomerId         10000 non-null int64\n",
      "Surname            10000 non-null object\n",
      "CreditScore        10000 non-null int64\n",
      "Geography          10000 non-null object\n",
      "Gender             10000 non-null object\n",
      "Age                10000 non-null int64\n",
      "Tenure             10000 non-null int64\n",
      "Balance            10000 non-null float64\n",
      "NumOfProducts      10000 non-null int64\n",
      "HasCrCard          10000 non-null int64\n",
      "IsActiveMember     10000 non-null int64\n",
      "EstimatedSalary    10000 non-null float64\n",
      "Exited             10000 non-null int64\n",
      "dtypes: float64(2), int64(9), object(3)\n",
      "memory usage: 1.1+ MB\n"
     ]
    }
   ],
   "source": [
    "df.info()"
   ]
  },
  {
   "cell_type": "markdown",
   "metadata": {},
   "source": [
    "##### Thus, from the above information, we get to know that our dataset consists of 1000 rows and 14 columns in total. The dataset inlcudes information about various features related to customers as shown above."
   ]
  },
  {
   "cell_type": "code",
   "execution_count": 5,
   "metadata": {},
   "outputs": [],
   "source": [
    "X = df.iloc[:, 3 : 13].values\n",
    "Y = df.iloc[:, 13].values"
   ]
  },
  {
   "cell_type": "markdown",
   "metadata": {},
   "source": [
    "#### We have two categorical features namely, Gender and Geography. We should process them for accurate modelling results."
   ]
  },
  {
   "cell_type": "markdown",
   "metadata": {},
   "source": [
    "#### Handling the Categorical Data"
   ]
  },
  {
   "cell_type": "code",
   "execution_count": 6,
   "metadata": {},
   "outputs": [],
   "source": [
    "# Encoding categorical data\n",
    "from sklearn.preprocessing import LabelEncoder, OneHotEncoder\n",
    "labelencoder_X_1 = LabelEncoder()\n",
    "X[:, 1] = labelencoder_X_1.fit_transform(X[:, 1])\n",
    "labelencoder_X_2 = LabelEncoder()\n",
    "X[:, 2] = labelencoder_X_2.fit_transform(X[:, 2])\n",
    "onehotencoder = OneHotEncoder(categorical_features = [1])\n",
    "X = onehotencoder.fit_transform(X).toarray()\n",
    "X = X[:, 1:]"
   ]
  },
  {
   "cell_type": "markdown",
   "metadata": {},
   "source": [
    "#### Split in train and test sets"
   ]
  },
  {
   "cell_type": "code",
   "execution_count": 7,
   "metadata": {},
   "outputs": [],
   "source": [
    "from sklearn.model_selection import train_test_split\n",
    "xTrain, xTest, yTrain, yTest = train_test_split(X, Y, test_size=0.25, random_state=0)"
   ]
  },
  {
   "cell_type": "markdown",
   "metadata": {},
   "source": [
    "#### Perform Sclaing as the data contains wildly unscaled features"
   ]
  },
  {
   "cell_type": "code",
   "execution_count": 8,
   "metadata": {},
   "outputs": [],
   "source": [
    "from sklearn.preprocessing import StandardScaler\n",
    "xScaler = StandardScaler()\n",
    "yScaler = StandardScaler()\n",
    "\n",
    "xTrain = xScaler.fit_transform(xTrain)\n",
    "xTest = xScaler.transform(xTest)"
   ]
  },
  {
   "cell_type": "markdown",
   "metadata": {},
   "source": [
    "#### Now, let's make the Artificial Neural Network"
   ]
  },
  {
   "cell_type": "code",
   "execution_count": 9,
   "metadata": {},
   "outputs": [
    {
     "name": "stderr",
     "output_type": "stream",
     "text": [
      "Using TensorFlow backend.\n"
     ]
    }
   ],
   "source": [
    "# Import Keras libraries\n",
    "import keras\n",
    "from keras.models import Sequential\n",
    "from keras.layers import Dense"
   ]
  },
  {
   "cell_type": "markdown",
   "metadata": {},
   "source": [
    "#### Initialize the ANN"
   ]
  },
  {
   "cell_type": "code",
   "execution_count": 10,
   "metadata": {},
   "outputs": [],
   "source": [
    "classifier = Sequential()"
   ]
  },
  {
   "cell_type": "markdown",
   "metadata": {},
   "source": [
    "#### Add Input layer and the First Hidden Layer"
   ]
  },
  {
   "cell_type": "code",
   "execution_count": 11,
   "metadata": {},
   "outputs": [
    {
     "name": "stderr",
     "output_type": "stream",
     "text": [
      "c:\\users\\sriram veturi\\appdata\\local\\programs\\python\\python36\\lib\\site-packages\\ipykernel_launcher.py:1: UserWarning: Update your `Dense` call to the Keras 2 API: `Dense(activation=\"relu\", input_dim=11, units=6, kernel_initializer=\"uniform\")`\n",
      "  \"\"\"Entry point for launching an IPython kernel.\n"
     ]
    }
   ],
   "source": [
    "classifier.add(Dense(output_dim=6, init='uniform', activation='relu', input_dim=11))"
   ]
  },
  {
   "cell_type": "markdown",
   "metadata": {},
   "source": [
    "#### Add the next Hidden Layer"
   ]
  },
  {
   "cell_type": "code",
   "execution_count": 12,
   "metadata": {},
   "outputs": [
    {
     "name": "stderr",
     "output_type": "stream",
     "text": [
      "c:\\users\\sriram veturi\\appdata\\local\\programs\\python\\python36\\lib\\site-packages\\ipykernel_launcher.py:1: UserWarning: Update your `Dense` call to the Keras 2 API: `Dense(activation=\"relu\", units=6, kernel_initializer=\"uniform\")`\n",
      "  \"\"\"Entry point for launching an IPython kernel.\n"
     ]
    }
   ],
   "source": [
    "classifier.add(Dense(output_dim=6, init='uniform', activation='relu'))"
   ]
  },
  {
   "cell_type": "markdown",
   "metadata": {},
   "source": [
    "#### Add the output layer. Note that for all the layers except the output layer, we use RELU as activation function but SIGMOID for the output layer as it gives us the probability of the customer leaving the bank. We can then scale the probablity to our desired threshold and get results."
   ]
  },
  {
   "cell_type": "code",
   "execution_count": 13,
   "metadata": {},
   "outputs": [
    {
     "name": "stderr",
     "output_type": "stream",
     "text": [
      "c:\\users\\sriram veturi\\appdata\\local\\programs\\python\\python36\\lib\\site-packages\\ipykernel_launcher.py:1: UserWarning: Update your `Dense` call to the Keras 2 API: `Dense(activation=\"sigmoid\", units=1, kernel_initializer=\"uniform\")`\n",
      "  \"\"\"Entry point for launching an IPython kernel.\n"
     ]
    }
   ],
   "source": [
    "classifier.add(Dense(output_dim=1, init='uniform', activation='sigmoid'))"
   ]
  },
  {
   "cell_type": "markdown",
   "metadata": {},
   "source": [
    "#### Make the predictions with parameters ADAM, BINARY_CROSSENTROPY and ACCURACY.\n",
    "##### 'ADAM' is the most accurate and efficient type of Stochastic Gradient Descent Algorithm optimizer.\n",
    "##### 'Binary Cross-Entropy' is used because our output is a binary attribute i.e. whether the customer would stay or not.\n",
    "##### We update weights using Back Propogation Algorithm for better 'accuracy'."
   ]
  },
  {
   "cell_type": "code",
   "execution_count": 14,
   "metadata": {},
   "outputs": [],
   "source": [
    "classifier.compile(optimizer='adam', loss='binary_crossentropy', metrics=['accuracy'])"
   ]
  },
  {
   "cell_type": "markdown",
   "metadata": {},
   "source": [
    "#### And with the batch size as 10 and the number of epochs as 100, the training starts here..."
   ]
  },
  {
   "cell_type": "code",
   "execution_count": 15,
   "metadata": {},
   "outputs": [
    {
     "name": "stderr",
     "output_type": "stream",
     "text": [
      "c:\\users\\sriram veturi\\appdata\\local\\programs\\python\\python36\\lib\\site-packages\\ipykernel_launcher.py:2: UserWarning: The `nb_epoch` argument in `fit` has been renamed `epochs`.\n",
      "  \n"
     ]
    },
    {
     "name": "stdout",
     "output_type": "stream",
     "text": [
      "Epoch 1/100\n",
      "7500/7500 [==============================] - 1s 101us/step - loss: 0.4895 - acc: 0.7956\n",
      "Epoch 2/100\n",
      "7500/7500 [==============================] - 1s 95us/step - loss: 0.4312 - acc: 0.7963\n",
      "Epoch 3/100\n",
      "7500/7500 [==============================] - 1s 115us/step - loss: 0.4273 - acc: 0.7963 0s - loss: 0.4398 -\n",
      "Epoch 4/100\n",
      "7500/7500 [==============================] - 0s 66us/step - loss: 0.4227 - acc: 0.8045\n",
      "Epoch 5/100\n",
      "7500/7500 [==============================] - 0s 63us/step - loss: 0.4188 - acc: 0.8239\n",
      "Epoch 6/100\n",
      "7500/7500 [==============================] - 0s 64us/step - loss: 0.4147 - acc: 0.8272\n",
      "Epoch 7/100\n",
      "7500/7500 [==============================] - 0s 65us/step - loss: 0.4117 - acc: 0.8319\n",
      "Epoch 8/100\n",
      "7500/7500 [==============================] - 0s 64us/step - loss: 0.4094 - acc: 0.8319\n",
      "Epoch 9/100\n",
      "7500/7500 [==============================] - 0s 64us/step - loss: 0.4072 - acc: 0.8340\n",
      "Epoch 10/100\n",
      "7500/7500 [==============================] - 0s 66us/step - loss: 0.4057 - acc: 0.8351\n",
      "Epoch 11/100\n",
      "7500/7500 [==============================] - 0s 66us/step - loss: 0.4037 - acc: 0.8333\n",
      "Epoch 12/100\n",
      "7500/7500 [==============================] - 0s 65us/step - loss: 0.4027 - acc: 0.8360\n",
      "Epoch 13/100\n",
      "7500/7500 [==============================] - 0s 67us/step - loss: 0.4020 - acc: 0.8340\n",
      "Epoch 14/100\n",
      "7500/7500 [==============================] - 0s 66us/step - loss: 0.4013 - acc: 0.8341\n",
      "Epoch 15/100\n",
      "7500/7500 [==============================] - 0s 66us/step - loss: 0.4002 - acc: 0.8353\n",
      "Epoch 16/100\n",
      "7500/7500 [==============================] - 1s 94us/step - loss: 0.4004 - acc: 0.8344\n",
      "Epoch 17/100\n",
      "7500/7500 [==============================] - 1s 87us/step - loss: 0.3998 - acc: 0.8337\n",
      "Epoch 18/100\n",
      "7500/7500 [==============================] - 1s 89us/step - loss: 0.3996 - acc: 0.8351\n",
      "Epoch 19/100\n",
      "7500/7500 [==============================] - 1s 67us/step - loss: 0.3990 - acc: 0.8340\n",
      "Epoch 20/100\n",
      "7500/7500 [==============================] - 0s 64us/step - loss: 0.3985 - acc: 0.8356\n",
      "Epoch 21/100\n",
      "7500/7500 [==============================] - 0s 66us/step - loss: 0.3985 - acc: 0.8372: 0s - loss: 0.4006 - acc:\n",
      "Epoch 22/100\n",
      "7500/7500 [==============================] - 0s 65us/step - loss: 0.3982 - acc: 0.8359\n",
      "Epoch 23/100\n",
      "7500/7500 [==============================] - 0s 65us/step - loss: 0.3982 - acc: 0.8347\n",
      "Epoch 24/100\n",
      "7500/7500 [==============================] - 0s 67us/step - loss: 0.3974 - acc: 0.8351\n",
      "Epoch 25/100\n",
      "7500/7500 [==============================] - 0s 66us/step - loss: 0.3978 - acc: 0.8357\n",
      "Epoch 26/100\n",
      "7500/7500 [==============================] - 0s 66us/step - loss: 0.3970 - acc: 0.8361\n",
      "Epoch 27/100\n",
      "7500/7500 [==============================] - 1s 68us/step - loss: 0.3972 - acc: 0.8353\n",
      "Epoch 28/100\n",
      "7500/7500 [==============================] - 0s 66us/step - loss: 0.3966 - acc: 0.8341\n",
      "Epoch 29/100\n",
      "7500/7500 [==============================] - 0s 67us/step - loss: 0.3965 - acc: 0.8344\n",
      "Epoch 30/100\n",
      "7500/7500 [==============================] - 0s 67us/step - loss: 0.3966 - acc: 0.8344\n",
      "Epoch 31/100\n",
      "7500/7500 [==============================] - 0s 66us/step - loss: 0.3969 - acc: 0.8339\n",
      "Epoch 32/100\n",
      "7500/7500 [==============================] - 0s 66us/step - loss: 0.3960 - acc: 0.8351\n",
      "Epoch 33/100\n",
      "7500/7500 [==============================] - 1s 68us/step - loss: 0.3956 - acc: 0.8343\n",
      "Epoch 34/100\n",
      "7500/7500 [==============================] - 1s 67us/step - loss: 0.3960 - acc: 0.8355\n",
      "Epoch 35/100\n",
      "7500/7500 [==============================] - 1s 67us/step - loss: 0.3961 - acc: 0.8345\n",
      "Epoch 36/100\n",
      "7500/7500 [==============================] - 0s 67us/step - loss: 0.3958 - acc: 0.8343\n",
      "Epoch 37/100\n",
      "7500/7500 [==============================] - 1s 68us/step - loss: 0.3953 - acc: 0.8364\n",
      "Epoch 38/100\n",
      "7500/7500 [==============================] - 1s 71us/step - loss: 0.3950 - acc: 0.8345\n",
      "Epoch 39/100\n",
      "7500/7500 [==============================] - 1s 69us/step - loss: 0.3953 - acc: 0.8360\n",
      "Epoch 40/100\n",
      "7500/7500 [==============================] - 1s 67us/step - loss: 0.3947 - acc: 0.8361\n",
      "Epoch 41/100\n",
      "7500/7500 [==============================] - 1s 67us/step - loss: 0.3941 - acc: 0.8367\n",
      "Epoch 42/100\n",
      "7500/7500 [==============================] - 1s 68us/step - loss: 0.3938 - acc: 0.8377\n",
      "Epoch 43/100\n",
      "7500/7500 [==============================] - 1s 73us/step - loss: 0.3935 - acc: 0.8357\n",
      "Epoch 44/100\n",
      "7500/7500 [==============================] - 1s 85us/step - loss: 0.3923 - acc: 0.8388\n",
      "Epoch 45/100\n",
      "7500/7500 [==============================] - 1s 97us/step - loss: 0.3920 - acc: 0.8387\n",
      "Epoch 46/100\n",
      "7500/7500 [==============================] - 1s 98us/step - loss: 0.3914 - acc: 0.8376\n",
      "Epoch 47/100\n",
      "7500/7500 [==============================] - 1s 98us/step - loss: 0.3907 - acc: 0.8376\n",
      "Epoch 48/100\n",
      "7500/7500 [==============================] - 1s 73us/step - loss: 0.3888 - acc: 0.8413\n",
      "Epoch 49/100\n",
      "7500/7500 [==============================] - 1s 68us/step - loss: 0.3883 - acc: 0.8380\n",
      "Epoch 50/100\n",
      "7500/7500 [==============================] - 1s 68us/step - loss: 0.3870 - acc: 0.8391\n",
      "Epoch 51/100\n",
      "7500/7500 [==============================] - 1s 69us/step - loss: 0.3862 - acc: 0.8373\n",
      "Epoch 52/100\n",
      "7500/7500 [==============================] - 1s 68us/step - loss: 0.3852 - acc: 0.8364\n",
      "Epoch 53/100\n",
      "7500/7500 [==============================] - 1s 70us/step - loss: 0.3841 - acc: 0.8397\n",
      "Epoch 54/100\n",
      "7500/7500 [==============================] - 1s 67us/step - loss: 0.3821 - acc: 0.8393\n",
      "Epoch 55/100\n",
      "7500/7500 [==============================] - 1s 98us/step - loss: 0.3806 - acc: 0.8400\n",
      "Epoch 56/100\n",
      "7500/7500 [==============================] - 1s 120us/step - loss: 0.3806 - acc: 0.8400\n",
      "Epoch 57/100\n",
      "7500/7500 [==============================] - 1s 85us/step - loss: 0.3787 - acc: 0.8393\n",
      "Epoch 58/100\n",
      "7500/7500 [==============================] - 1s 76us/step - loss: 0.3767 - acc: 0.8391\n",
      "Epoch 59/100\n",
      "7500/7500 [==============================] - 1s 77us/step - loss: 0.3756 - acc: 0.8384\n",
      "Epoch 60/100\n",
      "7500/7500 [==============================] - 1s 84us/step - loss: 0.3743 - acc: 0.8383\n",
      "Epoch 61/100\n",
      "7500/7500 [==============================] - 1s 73us/step - loss: 0.3727 - acc: 0.8397\n",
      "Epoch 62/100\n",
      "7500/7500 [==============================] - 1s 75us/step - loss: 0.3710 - acc: 0.8371\n",
      "Epoch 63/100\n",
      "7500/7500 [==============================] - 1s 72us/step - loss: 0.3686 - acc: 0.8408\n",
      "Epoch 64/100\n",
      "7500/7500 [==============================] - 1s 72us/step - loss: 0.3669 - acc: 0.8421\n",
      "Epoch 65/100\n",
      "7500/7500 [==============================] - 1s 72us/step - loss: 0.3648 - acc: 0.8421\n",
      "Epoch 66/100\n",
      "7500/7500 [==============================] - 1s 73us/step - loss: 0.3625 - acc: 0.8453\n",
      "Epoch 67/100\n",
      "7500/7500 [==============================] - 1s 74us/step - loss: 0.3617 - acc: 0.8499\n",
      "Epoch 68/100\n",
      "7500/7500 [==============================] - 1s 74us/step - loss: 0.3591 - acc: 0.8511\n",
      "Epoch 69/100\n",
      "7500/7500 [==============================] - 1s 73us/step - loss: 0.3573 - acc: 0.8521\n",
      "Epoch 70/100\n",
      "7500/7500 [==============================] - 1s 73us/step - loss: 0.3561 - acc: 0.8563\n",
      "Epoch 71/100\n",
      "7500/7500 [==============================] - 1s 72us/step - loss: 0.3542 - acc: 0.8563\n",
      "Epoch 72/100\n",
      "7500/7500 [==============================] - 1s 73us/step - loss: 0.3533 - acc: 0.8584\n",
      "Epoch 73/100\n",
      "7500/7500 [==============================] - 1s 72us/step - loss: 0.3521 - acc: 0.8573\n",
      "Epoch 74/100\n",
      "7500/7500 [==============================] - 1s 73us/step - loss: 0.3514 - acc: 0.8581\n",
      "Epoch 75/100\n",
      "7500/7500 [==============================] - 1s 73us/step - loss: 0.3510 - acc: 0.8596\n",
      "Epoch 76/100\n",
      "7500/7500 [==============================] - 1s 73us/step - loss: 0.3506 - acc: 0.8599\n",
      "Epoch 77/100\n",
      "7500/7500 [==============================] - 1s 74us/step - loss: 0.3493 - acc: 0.8601\n",
      "Epoch 78/100\n",
      "7500/7500 [==============================] - 1s 73us/step - loss: 0.3483 - acc: 0.8611\n",
      "Epoch 79/100\n",
      "7500/7500 [==============================] - 1s 74us/step - loss: 0.3484 - acc: 0.8619\n",
      "Epoch 80/100\n",
      "7500/7500 [==============================] - 1s 71us/step - loss: 0.3469 - acc: 0.8620\n",
      "Epoch 81/100\n",
      "7500/7500 [==============================] - 1s 78us/step - loss: 0.3471 - acc: 0.8597\n",
      "Epoch 82/100\n"
     ]
    },
    {
     "name": "stdout",
     "output_type": "stream",
     "text": [
      "7500/7500 [==============================] - 1s 70us/step - loss: 0.3469 - acc: 0.8591\n",
      "Epoch 83/100\n",
      "7500/7500 [==============================] - 1s 70us/step - loss: 0.3468 - acc: 0.8619\n",
      "Epoch 84/100\n",
      "7500/7500 [==============================] - 1s 71us/step - loss: 0.3460 - acc: 0.8625\n",
      "Epoch 85/100\n",
      "7500/7500 [==============================] - 1s 70us/step - loss: 0.3458 - acc: 0.8615\n",
      "Epoch 86/100\n",
      "7500/7500 [==============================] - 1s 71us/step - loss: 0.3454 - acc: 0.8607\n",
      "Epoch 87/100\n",
      "7500/7500 [==============================] - 1s 70us/step - loss: 0.3458 - acc: 0.8619\n",
      "Epoch 88/100\n",
      "7500/7500 [==============================] - 1s 68us/step - loss: 0.3448 - acc: 0.8609\n",
      "Epoch 89/100\n",
      "7500/7500 [==============================] - 1s 69us/step - loss: 0.3456 - acc: 0.8625\n",
      "Epoch 90/100\n",
      "7500/7500 [==============================] - 1s 68us/step - loss: 0.3450 - acc: 0.8603\n",
      "Epoch 91/100\n",
      "7500/7500 [==============================] - 1s 70us/step - loss: 0.3449 - acc: 0.8625\n",
      "Epoch 92/100\n",
      "7500/7500 [==============================] - 1s 70us/step - loss: 0.3440 - acc: 0.8600\n",
      "Epoch 93/100\n",
      "7500/7500 [==============================] - 1s 71us/step - loss: 0.3440 - acc: 0.8612\n",
      "Epoch 94/100\n",
      "7500/7500 [==============================] - 1s 71us/step - loss: 0.3442 - acc: 0.8605\n",
      "Epoch 95/100\n",
      "7500/7500 [==============================] - 1s 71us/step - loss: 0.3433 - acc: 0.8605\n",
      "Epoch 96/100\n",
      "7500/7500 [==============================] - 1s 72us/step - loss: 0.3429 - acc: 0.8631\n",
      "Epoch 97/100\n",
      "7500/7500 [==============================] - 1s 70us/step - loss: 0.3433 - acc: 0.8620\n",
      "Epoch 98/100\n",
      "7500/7500 [==============================] - 1s 73us/step - loss: 0.3427 - acc: 0.8620\n",
      "Epoch 99/100\n",
      "7500/7500 [==============================] - 1s 75us/step - loss: 0.3429 - acc: 0.8608\n",
      "Epoch 100/100\n",
      "7500/7500 [==============================] - 1s 74us/step - loss: 0.3425 - acc: 0.8608\n"
     ]
    },
    {
     "data": {
      "text/plain": [
       "<keras.callbacks.History at 0x214455f95f8>"
      ]
     },
     "execution_count": 15,
     "metadata": {},
     "output_type": "execute_result"
    }
   ],
   "source": [
    "# Fitting the ANN to training set\n",
    "classifier.fit(xTrain, yTrain, batch_size=10, nb_epoch=100)"
   ]
  },
  {
   "cell_type": "markdown",
   "metadata": {},
   "source": [
    "#### The training is done. Let's assume the threshold as 50% and modify the predictions as 1s and 0s."
   ]
  },
  {
   "cell_type": "code",
   "execution_count": 16,
   "metadata": {},
   "outputs": [],
   "source": [
    "yPred = classifier.predict(xTest)\n",
    "yPred = (yPred > 0.5)"
   ]
  },
  {
   "cell_type": "markdown",
   "metadata": {},
   "source": [
    "#### Confusion Matrix"
   ]
  },
  {
   "cell_type": "code",
   "execution_count": 17,
   "metadata": {},
   "outputs": [
    {
     "name": "stdout",
     "output_type": "stream",
     "text": [
      "[[1877  114]\n",
      " [ 241  268]]\n"
     ]
    }
   ],
   "source": [
    "# Make Confusion Matrix\n",
    "from sklearn.metrics import confusion_matrix\n",
    "matrix = confusion_matrix(y_true=yTest, y_pred=yPred)\n",
    "print(matrix)"
   ]
  },
  {
   "cell_type": "markdown",
   "metadata": {},
   "source": [
    "#### Obtain the accuracy on test set"
   ]
  },
  {
   "cell_type": "code",
   "execution_count": 18,
   "metadata": {},
   "outputs": [
    {
     "name": "stdout",
     "output_type": "stream",
     "text": [
      "Accuracy :  0.858\n"
     ]
    }
   ],
   "source": [
    "# Get accuracy\n",
    "from sklearn.metrics import accuracy_score\n",
    "print(\"Accuracy : \",accuracy_score(yPred, yTest))"
   ]
  },
  {
   "cell_type": "markdown",
   "metadata": {},
   "source": [
    "### The final accuracy of the test set with Artificial Neural Network using Keras is 85.8% which is significantly higher than the other models."
   ]
  }
 ],
 "metadata": {
  "kernelspec": {
   "display_name": "Python 3",
   "language": "python",
   "name": "python3"
  },
  "language_info": {
   "codemirror_mode": {
    "name": "ipython",
    "version": 3
   },
   "file_extension": ".py",
   "mimetype": "text/x-python",
   "name": "python",
   "nbconvert_exporter": "python",
   "pygments_lexer": "ipython3",
   "version": "3.6.5"
  }
 },
 "nbformat": 4,
 "nbformat_minor": 2
}
